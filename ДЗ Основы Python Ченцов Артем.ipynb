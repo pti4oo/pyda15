{
 "cells": [
  {
   "cell_type": "code",
   "execution_count": 41,
   "metadata": {},
   "outputs": [
    {
     "name": "stdout",
     "output_type": "stream",
     "text": [
      "Фраза 2 длиннее фразы 1\n"
     ]
    }
   ],
   "source": [
    "phrase_1 = \"123\"\n",
    "phrase_2 = \"произвольный текст\"\n",
    "if len(phrase_1)>len(phrase_2): # если кол-во символов первой фразы больше кол символов 2 фразы\n",
    "    print(\"Фраза 1 длиннее фразы 2\")\n",
    "elif len(phrase_1)==len(phrase_2):# если кол-во символов равно\n",
    "    print('фразы равной длины')\n",
    "else:\n",
    "    print(\"Фраза 2 длиннее фразы 1\")"
   ]
  },
  {
   "cell_type": "code",
   "execution_count": 114,
   "metadata": {
    "scrolled": true
   },
   "outputs": [
    {
     "name": "stdout",
     "output_type": "stream",
     "text": [
      "обычный год\n"
     ]
    }
   ],
   "source": [
    "year = 2019\n",
    "if (year % 4 == 0) and (year % 100 != 0) or (year % 400 == 0): # високосный кратен 4 не кратен 100 кратен 400\n",
    "    print('високосный год')\n",
    "else:\n",
    "    print(\"обычный год\")"
   ]
  },
  {
   "cell_type": "code",
   "execution_count": 148,
   "metadata": {},
   "outputs": [
    {
     "name": "stdout",
     "output_type": "stream",
     "text": [
      "Ваш знак зодиака:Скорпион\n"
     ]
    }
   ],
   "source": [
    "day = 2\n",
    "mounth = \"ноябрь\"\n",
    "if (day>=21 and day<=31 and mounth == 'март') or (mounth == \"апрель\" and day >= 1 and day <= 19):\n",
    "    print(\"Ваш знак зодиака:Овен\")\n",
    "elif(day >= 20 and day <= 30 and mounth == \"апрель\") or(mounth == \"май\" and day >= 1 and day <= 20):\n",
    "    print(\"Ваш знак зодиака:Телец\")\n",
    "elif(day>=21 and day <= 31 and mounth == \"май\") or (mounth == \"июнь\" and day >= 1 and day <= 21):\n",
    "    print('Ваш знак зодиака:Близнецы')\n",
    "elif(day>=22 and day <= 30 and mounth == 'июнь') or ( mounth == \"июль\" and day >= 1 and day <= 22):\n",
    "    print('Ваш знак зодиака:Рак')\n",
    "elif(day >= 23 and day <= 31 and mounth == \"июль\") or ( mounth == \"август\" and day >= 1 and day <= 22):\n",
    "    print('Ваш знак зодиака:Лев')\n",
    "elif(day >= 23 and day <= 31 and mounth == 'август') or (mounth == \"сентябрь\" and day >= 1 and day <= 21):\n",
    "    print(\"Ваш знак зодиака:Дева\")\n",
    "elif(day>=23 and day <= 30 and mounth == \"сентябрь\") or (mounth == \"октябрь\" and day >= 1 and day <= 23):\n",
    "    print('Ваш знак зодиака:Весы')\n",
    "elif(day>=24 and day <=31 and mounth == \"октябрь\") or (mounth == \"ноябрь\" and day >= 1 and day <= 22):\n",
    "    print('Ваш знак зодиака:Скорпион')\n",
    "elif(day>=23 and day <= 30 and mounth == \"ноябрь\") or (mounth == \"декабрь\" and day >= 1 and day <= 21):\n",
    "    print('Ваш знак зодиака:Стрелец')\n",
    "elif(day>=22 and day <= 31 and mounth == \"декабрь\") or (mounth == \"январь\" and day >= 1 and day <= 20):\n",
    "    print('Ваш знак зодиака:Козерог')\n",
    "elif(day>=21 and day <= 31 and mounth == \"январь\") or (mounth == \"февраль\" and day >= 1 and day <= 18):\n",
    "    print('Ваш знак зодиака:Водолей')\n",
    "elif(day>=19 and day <= 29 and mounth == \"февраль\") or (mounth == \"март\" and day >= 1 and day <= 20):\n",
    "    print('Ваш знак зодиака:Рыбы')\n"
   ]
  },
  {
   "cell_type": "code",
   "execution_count": 179,
   "metadata": {},
   "outputs": [
    {
     "name": "stdout",
     "output_type": "stream",
     "text": [
      "Упаковка для лыж\n"
     ]
    }
   ],
   "source": [
    "width = 10\n",
    "length =205\n",
    "height =5\n",
    "if (width<= 15 and length <= 15 and height <= 15):\n",
    "    print('Коробка №1')\n",
    "elif(width >= 15 and width <=50) or (length >= 15 and length <=50) or (height >= 15 and height <=50):\n",
    "    print('Коробка №2')\n",
    "elif(length>= 200):\n",
    "    print('Упаковка для лыж')\n",
    "else:\n",
    "    print(\"Стандартная коробка №3\")"
   ]
  }
 ],
 "metadata": {
  "kernelspec": {
   "display_name": "Python 3",
   "language": "python",
   "name": "python3"
  },
  "language_info": {
   "codemirror_mode": {
    "name": "ipython",
    "version": 3
   },
   "file_extension": ".py",
   "mimetype": "text/x-python",
   "name": "python",
   "nbconvert_exporter": "python",
   "pygments_lexer": "ipython3",
   "version": "3.8.3"
  }
 },
 "nbformat": 4,
 "nbformat_minor": 4
}
